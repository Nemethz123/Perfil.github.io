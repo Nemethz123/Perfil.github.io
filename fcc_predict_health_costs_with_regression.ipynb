{
  "cells": [
    {
      "cell_type": "code",
      "execution_count": null,
      "metadata": {
        "id": "1rRo8oNqZ-Rj"
      },
      "outputs": [],
      "source": [
        "# Import libraries. You may or may not use all of these.\n",
        "!pip install -q git+https://github.com/tensorflow/docs\n",
        "import matplotlib.pyplot as plt\n",
        "import numpy as np\n",
        "import pandas as pd\n",
        "\n",
        "try:\n",
        "  # %tensorflow_version only exists in Colab.\n",
        "  %tensorflow_version 2.x\n",
        "except Exception:\n",
        "  pass\n",
        "import tensorflow as tf\n",
        "\n",
        "from tensorflow import keras\n",
        "from tensorflow.keras import layers\n",
        "\n",
        "import tensorflow_docs as tfdocs\n",
        "import tensorflow_docs.plots\n",
        "import tensorflow_docs.modeling"
      ]
    },
    {
      "cell_type": "code",
      "execution_count": null,
      "metadata": {
        "id": "CiX2FI4gZtTt"
      },
      "outputs": [],
      "source": [
        "# Import data\n",
        "!wget https://cdn.freecodecamp.org/project-data/health-costs/insurance.csv\n",
        "dataset = pd.read_csv('insurance.csv')\n",
        "dataset.tail()"
      ]
    },
    {
      "cell_type": "code",
      "execution_count": null,
      "metadata": {
        "id": "LcopvQh3X-kX"
      },
      "outputs": [],
      "source": [
        "# --- PREPROCESAMIENTO Y ENTRENAMIENTO ----------------------------\n",
        "# 1. Convertir las variables categóricas a numéricas (one-hot)\n",
        "cat_cols = ['sex', 'smoker', 'region']\n",
        "dataset = pd.get_dummies(dataset, columns=cat_cols, drop_first=True)\n",
        "\n",
        "# 2. Separar etiquetas y características\n",
        "labels = dataset.pop('expenses')          # ← y = gastos\n",
        "features = dataset                         # ← X\n",
        "\n",
        "# 3. Dividir en entrenamiento (80 %) y prueba (20 %)\n",
        "from sklearn.model_selection import train_test_split\n",
        "X_train, X_test, y_train, y_test = train_test_split(\n",
        "    features, labels, test_size=0.20, random_state=42)\n",
        "\n",
        "# 4. Escalar las columnas numéricas para acelerar el gradiente\n",
        "from sklearn.preprocessing import StandardScaler\n",
        "num_cols   = ['age', 'bmi', 'children']\n",
        "scaler     = StandardScaler()\n",
        "\n",
        "X_train[num_cols] = scaler.fit_transform(X_train[num_cols])\n",
        "X_test[num_cols]  = scaler.transform(X_test[num_cols])\n",
        "\n",
        "# 5. Convertir a tensores\n",
        "X_train = tf.convert_to_tensor(X_train, dtype=tf.float32)\n",
        "X_test  = tf.convert_to_tensor(X_test,  dtype=tf.float32)\n",
        "y_train = tf.convert_to_tensor(y_train, dtype=tf.float32)\n",
        "y_test  = tf.convert_to_tensor(y_test,  dtype=tf.float32)\n",
        "\n",
        "# 6. Definir el modelo\n",
        "model = keras.Sequential([\n",
        "    layers.Dense(128, activation='relu', input_shape=[X_train.shape[1]]),\n",
        "    layers.Dense(64,  activation='relu'),\n",
        "    layers.Dense(32,  activation='relu'),\n",
        "    layers.Dense(1)                                   # salida continua\n",
        "])\n",
        "\n",
        "model.compile(\n",
        "    optimizer=keras.optimizers.Adam(learning_rate=0.001),\n",
        "    loss='mse',                   # error cuadrático medio\n",
        "    metrics=['mae', 'mse']        # mostramos MAE y MSE\n",
        ")\n",
        "\n",
        "# 7. Entrenar con early stopping para evitar sobre-ajuste\n",
        "early_stop = keras.callbacks.EarlyStopping(\n",
        "    monitor='val_mae', patience=30, restore_best_weights=True)\n",
        "\n",
        "history = model.fit(\n",
        "    X_train, y_train,\n",
        "    validation_split=0.2,         # 20 % de entrenamiento se usa como validación\n",
        "    epochs=500,\n",
        "    batch_size=32,\n",
        "    callbacks=[early_stop],\n",
        "    verbose=0                     # silencia salida; pon 1 si quieres ver el log\n",
        ")\n",
        "\n",
        "# 8. Renombrar variables como las espera la celda de prueba\n",
        "train_dataset, test_dataset = X_train, X_test\n",
        "train_labels,  test_labels  = y_train, y_test\n",
        "# -----------------------------------------------------------------\n"
      ]
    },
    {
      "cell_type": "code",
      "execution_count": null,
      "metadata": {
        "id": "Xe7RXH3N3CWU"
      },
      "outputs": [],
      "source": [
        "# RUN THIS CELL TO TEST YOUR MODEL. DO NOT MODIFY CONTENTS.\n",
        "# Test model by checking how well the model generalizes using the test set.\n",
        "loss, mae, mse = model.evaluate(test_dataset, test_labels, verbose=2)\n",
        "\n",
        "print(\"Testing set Mean Abs Error: {:5.2f} expenses\".format(mae))\n",
        "\n",
        "if mae < 3500:\n",
        "  print(\"You passed the challenge. Great job!\")\n",
        "else:\n",
        "  print(\"The Mean Abs Error must be less than 3500. Keep trying.\")\n",
        "\n",
        "# Plot predictions.\n",
        "test_predictions = model.predict(test_dataset).flatten()\n",
        "\n",
        "a = plt.axes(aspect='equal')\n",
        "plt.scatter(test_labels, test_predictions)\n",
        "plt.xlabel('True values (expenses)')\n",
        "plt.ylabel('Predictions (expenses)')\n",
        "lims = [0, 50000]\n",
        "plt.xlim(lims)\n",
        "plt.ylim(lims)\n",
        "_ = plt.plot(lims,lims)\n"
      ]
    }
  ],
  "metadata": {
    "colab": {
      "name": "fcc_predict_health_costs_with_regression.ipynb",
      "private_outputs": true,
      "provenance": [],
      "toc_visible": true
    },
    "kernelspec": {
      "display_name": "Python 3",
      "name": "python3"
    }
  },
  "nbformat": 4,
  "nbformat_minor": 0
}