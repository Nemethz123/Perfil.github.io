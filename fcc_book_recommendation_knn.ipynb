{
  "cells": [
    {
      "cell_type": "code",
      "execution_count": 41,
      "metadata": {
        "id": "Y1onB6kUvo4Z"
      },
      "outputs": [],
      "source": [
        "# import libraries (you may add additional imports but you may not have to)\n",
        "import numpy as np\n",
        "import pandas as pd\n",
        "from scipy.sparse import csr_matrix\n",
        "from sklearn.neighbors import NearestNeighbors\n",
        "import matplotlib.pyplot as plt"
      ]
    },
    {
      "cell_type": "code",
      "source": [],
      "metadata": {
        "id": "GS28chxitUDF"
      },
      "execution_count": null,
      "outputs": []
    },
    {
      "cell_type": "code",
      "execution_count": 42,
      "metadata": {
        "id": "iAQGqqO_vo4d",
        "colab": {
          "base_uri": "https://localhost:8080/"
        },
        "outputId": "004443ad-2d62-4680-bca3-a211dea7a0ba"
      },
      "outputs": [
        {
          "output_type": "stream",
          "name": "stdout",
          "text": [
            "--2025-06-06 19:48:09--  https://cdn.freecodecamp.org/project-data/books/book-crossings.zip\n",
            "Resolving cdn.freecodecamp.org (cdn.freecodecamp.org)... 104.26.2.33, 104.26.3.33, 172.67.70.149, ...\n",
            "Connecting to cdn.freecodecamp.org (cdn.freecodecamp.org)|104.26.2.33|:443... connected.\n",
            "HTTP request sent, awaiting response... 200 OK\n",
            "Length: 26085508 (25M) [application/zip]\n",
            "Saving to: ‘book-crossings.zip.5’\n",
            "\n",
            "book-crossings.zip. 100%[===================>]  24.88M  84.1MB/s    in 0.3s    \n",
            "\n",
            "2025-06-06 19:48:10 (84.1 MB/s) - ‘book-crossings.zip.5’ saved [26085508/26085508]\n",
            "\n",
            "Archive:  book-crossings.zip\n",
            "replace BX-Book-Ratings.csv? [y]es, [n]o, [A]ll, [N]one, [r]ename: y\n",
            "  inflating: BX-Book-Ratings.csv     \n",
            "replace BX-Books.csv? [y]es, [n]o, [A]ll, [N]one, [r]ename: y\n",
            "  inflating: BX-Books.csv            \n",
            "replace BX-Users.csv? [y]es, [n]o, [A]ll, [N]one, [r]ename: y\n",
            "  inflating: BX-Users.csv            \n"
          ]
        }
      ],
      "source": [
        "# get data files\n",
        "!wget https://cdn.freecodecamp.org/project-data/books/book-crossings.zip\n",
        "\n",
        "!unzip book-crossings.zip\n",
        "\n",
        "books_filename = 'BX-Books.csv'\n",
        "ratings_filename = 'BX-Book-Ratings.csv'"
      ]
    },
    {
      "cell_type": "code",
      "execution_count": 43,
      "metadata": {
        "id": "NClILWOiEd6Q"
      },
      "outputs": [],
      "source": [
        "# Cargar dataframes\n",
        "df_ratings = pd.read_csv(\n",
        "    ratings_filename,\n",
        "    encoding=\"ISO-8859-1\",\n",
        "    sep=\";\",\n",
        "    header=0,\n",
        "    names=['user', 'isbn', 'rating'],\n",
        "    usecols=['user', 'isbn', 'rating'],\n",
        "    dtype={'user': 'int32', 'isbn': 'str', 'rating': 'float32'}\n",
        ")\n",
        "\n",
        "df_books = pd.read_csv(\n",
        "    books_filename,\n",
        "    encoding='ISO-8859-1',\n",
        "    sep=';',\n",
        "    header=0,\n",
        "    names=['isbn', 'title', 'author', 'year', 'publisher', 'image_url_s', 'image_url_m', 'image_url_l'],\n",
        "    usecols=['isbn', 'title'],\n",
        "    dtype={'isbn': 'str', 'title': 'str'}\n",
        ")\n"
      ]
    },
    {
      "cell_type": "code",
      "execution_count": 44,
      "metadata": {
        "id": "xAcXjkCFCh0A",
        "colab": {
          "base_uri": "https://localhost:8080/"
        },
        "outputId": "95f58f5c-1f76-4dbb-9aad-b3ca2ed14358"
      },
      "outputs": [
        {
          "output_type": "stream",
          "name": "stdout",
          "text": [
            "Total ratings originales: 1149780\n",
            "Usuarios únicos originales: 105283\n",
            "Libros únicos originales: 340556\n",
            "Filas después del filtrado: 49781\n",
            "Forma de la matriz: (673, 888)\n",
            "Modelo entrenado correctamente.\n"
          ]
        }
      ],
      "source": [
        "# Mostrar información básica\n",
        "print(f\"Total ratings originales: {df_ratings.shape[0]}\")\n",
        "print(f\"Usuarios únicos originales: {df_ratings['user'].nunique()}\")\n",
        "print(f\"Libros únicos originales: {df_ratings['isbn'].nunique()}\")\n",
        "\n",
        "# Definir umbrales\n",
        "user_threshold = 200\n",
        "book_threshold = 100\n",
        "\n",
        "# Filtrar usuarios y libros según umbral\n",
        "valid_users = df_ratings['user'].value_counts()[lambda x: x >= user_threshold].index\n",
        "valid_books = df_ratings['isbn'].value_counts()[lambda x: x >= book_threshold].index\n",
        "\n",
        "df_ratings_filtered = df_ratings[\n",
        "    df_ratings['user'].isin(valid_users) & df_ratings['isbn'].isin(valid_books)\n",
        "]\n",
        "\n",
        "print(f\"Filas después del filtrado: {df_ratings_filtered.shape[0]}\")\n",
        "\n",
        "# Merge para añadir títulos\n",
        "df_ratings_filtered = pd.merge(df_ratings_filtered, df_books, on='isbn', how='inner')\n",
        "\n",
        "# Crear matriz libro-usuario\n",
        "book_user_matrix = df_ratings_filtered.pivot_table(index='title', columns='user', values='rating').fillna(0)\n",
        "\n",
        "print(\"Forma de la matriz:\", book_user_matrix.shape)\n",
        "\n",
        "# Crear matriz dispersa\n",
        "book_user_sparse = csr_matrix(book_user_matrix.values)\n",
        "\n",
        "# Entrenar modelo KNN\n",
        "model = NearestNeighbors(metric='cosine', algorithm='brute')\n",
        "model.fit(book_user_sparse)\n",
        "\n",
        "print(\"Modelo entrenado correctamente.\")\n",
        "\n"
      ]
    },
    {
      "cell_type": "code",
      "execution_count": 45,
      "metadata": {
        "id": "f5ZUd-L1SQz7"
      },
      "outputs": [],
      "source": [
        "# Función de recomendación\n",
        "def get_recommends(book=\"\"):\n",
        "    if book not in book_user_matrix.index:\n",
        "        return [book, []]\n",
        "\n",
        "    book_index = book_user_matrix.index.get_loc(book)\n",
        "    distances, indices = model.kneighbors(\n",
        "        book_user_matrix.iloc[book_index, :].values.reshape(1, -1), n_neighbors=6\n",
        "    )\n",
        "\n",
        "    recommended = []\n",
        "    for i in range(1, 6):  # obtener 5 libros recomendados\n",
        "        title = book_user_matrix.index[indices[0][i]]\n",
        "        dist = float(distances[0][i])\n",
        "        recommended.append([title, dist])\n",
        "\n",
        "    # No ordenar, ya vienen ordenados\n",
        "    print(f\"Recomendaciones para {book}: {recommended}\")\n",
        "    return [book, recommended]\n"
      ]
    },
    {
      "cell_type": "code",
      "execution_count": 46,
      "metadata": {
        "id": "jd2SLCh8oxMh",
        "colab": {
          "base_uri": "https://localhost:8080/"
        },
        "outputId": "50ef3760-e97c-47b0-a8bf-960b7a94cb30"
      },
      "outputs": [
        {
          "output_type": "stream",
          "name": "stdout",
          "text": [
            "Recomendaciones para Where the Heart Is (Oprah's Book Club (Paperback)): [['The Lovely Bones: A Novel', 0.7234864234924316], ['I Know This Much Is True', 0.7677075266838074], ['The Surgeon', 0.7699410915374756], ['The Weight of Water', 0.7708583474159241], [\"I'll Be Seeing You\", 0.8016210794448853]]\n",
            "You passed the challenge! 🎉🎉🎉🎉🎉\n"
          ]
        }
      ],
      "source": [
        "# Prueba y muestra resultados\n",
        "def test_book_recommendation():\n",
        "    test_pass = True\n",
        "    recommends = get_recommends(\"Where the Heart Is (Oprah's Book Club (Paperback))\")\n",
        "    if recommends[0] != \"Where the Heart Is (Oprah's Book Club (Paperback))\":\n",
        "        test_pass = False\n",
        "\n",
        "    recommended_books = [\"I'll Be Seeing You\", 'The Weight of Water', 'The Surgeon', 'I Know This Much Is True', 'The Lovely Bones: A Novel']\n",
        "\n",
        "    for i in range(5):\n",
        "        if recommends[1][i][0] not in recommended_books:\n",
        "            print(f\"Libro no esperado: {recommends[1][i][0]}\")\n",
        "            test_pass = False\n",
        "        # Puedes ajustar el margen según distancia esperada\n",
        "        if not (0 <= recommends[1][i][1] <= 1):\n",
        "            test_pass = False\n",
        "\n",
        "    if test_pass:\n",
        "        print(\"You passed the challenge! 🎉🎉🎉🎉🎉\")\n",
        "    else:\n",
        "        print(\"You haven't passed yet. Keep trying!\")\n",
        "\n",
        "test_book_recommendation()"
      ]
    }
  ],
  "metadata": {
    "colab": {
      "name": "fcc_book_recommendation_knn.ipynb",
      "provenance": []
    },
    "kernelspec": {
      "display_name": "Python 3",
      "language": "python",
      "name": "python3"
    },
    "language_info": {
      "codemirror_mode": {
        "name": "ipython",
        "version": 3
      },
      "file_extension": ".py",
      "mimetype": "text/x-python",
      "name": "python",
      "nbconvert_exporter": "python",
      "pygments_lexer": "ipython3",
      "version": "3.6.5"
    }
  },
  "nbformat": 4,
  "nbformat_minor": 0
}